{
 "cells": [
  {
   "cell_type": "code",
   "execution_count": 7,
   "id": "enhanced-hygiene",
   "metadata": {},
   "outputs": [],
   "source": [
    "!git config --global user.name \"[David]\"\n",
    "!git config --global user.email \"[gis3dts@gmail.com]\"\n",
    "!git config --global credential.helper 'cache --timeout=3600'  #This remembers your credentials for 10 mins \n"
   ]
  },
  {
   "cell_type": "code",
   "execution_count": 11,
   "id": "needed-vacation",
   "metadata": {},
   "outputs": [
    {
     "name": "stdout",
     "output_type": "stream",
     "text": [
      "On branch gh-pages\n",
      "Your branch is up to date with 'origin/gh-pages'.\n",
      "\n",
      "Changes to be committed:\n",
      "  (use \"git reset HEAD <file>...\" to unstage)\n",
      "\n",
      "\t\u001b[32mmodified:   .ipynb_checkpoints/_config-checkpoint.yml\u001b[m\n",
      "\t\u001b[32mmodified:   _config.yml\u001b[m\n",
      "\t\u001b[32mmodified:   git_credentials.ipynb\u001b[m\n",
      "\n",
      "[gh-pages 5ca5a26] updating portfolio\n",
      " 3 files changed, 6 insertions(+), 4 deletions(-)\n",
      "Counting objects: 5, done.\n",
      "Delta compression using up to 8 threads.\n",
      "Compressing objects: 100% (5/5), done.\n",
      "Writing objects: 100% (5/5), 552 bytes | 46.00 KiB/s, done.\n",
      "Total 5 (delta 4), reused 0 (delta 0)\n",
      "remote: Resolving deltas: 100% (4/4), completed with 4 local objects.\u001b[K\n",
      "To https://github.com/gis3dts/Portfolio\n",
      "   37850a3..5ca5a26  gh-pages -> gh-pages\n"
     ]
    }
   ],
   "source": [
    "!git add .\n",
    "!git status\n",
    "!git commit -m \"updating portfolio\"\n",
    "!git push"
   ]
  },
  {
   "cell_type": "code",
   "execution_count": null,
   "id": "classified-thriller",
   "metadata": {},
   "outputs": [],
   "source": []
  }
 ],
 "metadata": {
  "kernelspec": {
   "display_name": "Python 3",
   "language": "python",
   "name": "python3"
  },
  "language_info": {
   "codemirror_mode": {
    "name": "ipython",
    "version": 3
   },
   "file_extension": ".py",
   "mimetype": "text/x-python",
   "name": "python",
   "nbconvert_exporter": "python",
   "pygments_lexer": "ipython3",
   "version": "3.7.8"
  }
 },
 "nbformat": 4,
 "nbformat_minor": 5
}
