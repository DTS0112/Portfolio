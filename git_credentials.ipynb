{
 "cells": [
  {
   "cell_type": "code",
   "execution_count": null,
   "id": "herbal-village",
   "metadata": {},
   "outputs": [],
   "source": [
    "!git config --global user.name \"[David]\"\n",
    "!git config --global user.email \"[gis3dts@gmail.com]\"\n",
    "!git config --global credential.helper 'cache --timeout=3600'  #This remembers your credentials for 10 mins \n"
   ]
  },
  {
   "cell_type": "code",
   "execution_count": 2,
   "id": "heavy-interface",
   "metadata": {},
   "outputs": [
    {
     "name": "stdout",
     "output_type": "stream",
     "text": [
      "[gh-pages 2ae25d9] updating portfolio\n",
      " 1 file changed, 12 insertions(+), 12 deletions(-)\n",
      "warning: redirecting to https://github.com/gis3dts/Portfolio.git/\n",
      "Counting objects: 3, done.\n",
      "Delta compression using up to 8 threads.\n",
      "Compressing objects: 100% (3/3), done.\n",
      "Writing objects: 100% (3/3), 524 bytes | 524.00 KiB/s, done.\n",
      "Total 3 (delta 2), reused 0 (delta 0)\n",
      "remote: Resolving deltas: 100% (2/2), completed with 2 local objects.\u001b[K\n",
      "To https://www.github.com/gis3dts/Portfolio\n",
      "   ec2f41c..2ae25d9  gh-pages -> gh-pages\n"
     ]
    }
   ],
   "source": [
    "!git add .\n",
    "!git commit -m \"updating portfolio\"\n",
    "!git push"
   ]
  },
  {
   "cell_type": "code",
   "execution_count": null,
   "id": "special-heather",
   "metadata": {},
   "outputs": [],
   "source": []
  }
 ],
 "metadata": {
  "kernelspec": {
   "display_name": "Python 3",
   "language": "python",
   "name": "python3"
  },
  "language_info": {
   "codemirror_mode": {
    "name": "ipython",
    "version": 3
   },
   "file_extension": ".py",
   "mimetype": "text/x-python",
   "name": "python",
   "nbconvert_exporter": "python",
   "pygments_lexer": "ipython3",
   "version": "3.7.8"
  }
 },
 "nbformat": 4,
 "nbformat_minor": 5
}
