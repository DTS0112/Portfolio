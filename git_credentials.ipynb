{
 "cells": [
  {
   "cell_type": "code",
   "execution_count": 1,
   "id": "existing-asset",
   "metadata": {},
   "outputs": [],
   "source": [
    "!git config --global user.name \"[David]\"\n",
    "!git config --global user.email \"[gis3dts@gmail.com]\"\n",
    "!git config --global credential.helper 'cache --timeout=3600'  #This remembers your credentials for 10 mins \n"
   ]
  },
  {
   "cell_type": "code",
   "execution_count": null,
   "id": "settled-recovery",
   "metadata": {},
   "outputs": [
    {
     "name": "stdout",
     "output_type": "stream",
     "text": [
      "/bin/bash: -c: line 1: syntax error: unexpected end of file\n",
      "On branch gh-pages\n",
      "Your branch is up to date with 'origin/gh-pages'.\n",
      "\n",
      "Changes not staged for commit:\n",
      "\t\u001b[31mmodified:   git_credentials.ipynb\u001b[m\n",
      "\t\u001b[31mdeleted:    index_updated_May_16_5am\u001b[m\n",
      "\n",
      "Untracked files:\n",
      "\t\u001b[31m.ipynb_checkpoints/index_updated-checkpoint.md\u001b[m\n",
      "\t\u001b[31mindex_updated.md\u001b[m\n",
      "\n",
      "no changes added to commit\n",
      "Username for 'https://github.com': "
     ]
    }
   ],
   "source": [
    "!git add .\n",
    "!git commit -m \"updating portfolio\"\n",
    "!git push"
   ]
  },
  {
   "cell_type": "code",
   "execution_count": 3,
   "id": "continental-frontier",
   "metadata": {},
   "outputs": [
    {
     "ename": "SyntaxError",
     "evalue": "invalid syntax (<ipython-input-3-ffc16059dfff>, line 1)",
     "output_type": "error",
     "traceback": [
      "\u001b[0;36m  File \u001b[0;32m\"<ipython-input-3-ffc16059dfff>\"\u001b[0;36m, line \u001b[0;32m1\u001b[0m\n\u001b[0;31m    git add\u001b[0m\n\u001b[0m          ^\u001b[0m\n\u001b[0;31mSyntaxError\u001b[0m\u001b[0;31m:\u001b[0m invalid syntax\n"
     ]
    }
   ],
   "source": [
    "git add "
   ]
  }
 ],
 "metadata": {
  "kernelspec": {
   "display_name": "Python 3",
   "language": "python",
   "name": "python3"
  },
  "language_info": {
   "codemirror_mode": {
    "name": "ipython",
    "version": 3
   },
   "file_extension": ".py",
   "mimetype": "text/x-python",
   "name": "python",
   "nbconvert_exporter": "python",
   "pygments_lexer": "ipython3",
   "version": "3.7.8"
  }
 },
 "nbformat": 4,
 "nbformat_minor": 5
}
