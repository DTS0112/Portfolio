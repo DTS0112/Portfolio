{
 "cells": [
  {
   "cell_type": "code",
   "execution_count": null,
   "id": "national-wagon",
   "metadata": {},
   "outputs": [],
   "source": [
    "!git config --global user.name \"[David]\"\n",
    "!git config --global user.email \"[gis3dts@gmail.com]\"\n",
    "!git config --global credential.helper 'cache --timeout=3600'  #This remembers your credentials for 10 mins \n"
   ]
  },
  {
   "cell_type": "code",
   "execution_count": 6,
   "id": "conscious-associate",
   "metadata": {},
   "outputs": [
    {
     "name": "stdout",
     "output_type": "stream",
     "text": [
      "[gh-pages 174282b] updating portfolio\n",
      " 3 files changed, 20 insertions(+), 20 deletions(-)\n",
      "warning: redirecting to https://github.com/gis3dts/Portfolio.git/\n",
      "Counting objects: 5, done.\n",
      "Delta compression using up to 8 threads.\n",
      "Compressing objects: 100% (5/5), done.\n",
      "Writing objects: 100% (5/5), 709 bytes | 709.00 KiB/s, done.\n",
      "Total 5 (delta 4), reused 0 (delta 0)\n",
      "remote: Resolving deltas: 100% (4/4), completed with 4 local objects.\u001b[K\n",
      "To https://www.github.com/gis3dts/Portfolio\n",
      "   4feb2cf..174282b  gh-pages -> gh-pages\n"
     ]
    }
   ],
   "source": [
    "!git add .\n",
    "!git commit -m \"updating portfolio\"\n",
    "!git push"
   ]
  },
  {
   "cell_type": "code",
   "execution_count": null,
   "id": "vulnerable-hybrid",
   "metadata": {},
   "outputs": [],
   "source": []
  }
 ],
 "metadata": {
  "kernelspec": {
   "display_name": "Python 3",
   "language": "python",
   "name": "python3"
  },
  "language_info": {
   "codemirror_mode": {
    "name": "ipython",
    "version": 3
   },
   "file_extension": ".py",
   "mimetype": "text/x-python",
   "name": "python",
   "nbconvert_exporter": "python",
   "pygments_lexer": "ipython3",
   "version": "3.7.8"
  }
 },
 "nbformat": 4,
 "nbformat_minor": 5
}
