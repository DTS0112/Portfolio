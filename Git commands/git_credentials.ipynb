{
 "cells": [
  {
   "cell_type": "code",
   "execution_count": 1,
   "id": "active-grain",
   "metadata": {},
   "outputs": [],
   "source": [
    "!git config --global user.name \"[David]\"\n",
    "!git config --global user.email \"[gis3dts@gmail.com]\"\n",
    "!git config --global credential.helper 'cache --timeout=3600'  #This remembers your credentials for 10 mins \n"
   ]
  },
  {
   "cell_type": "code",
   "execution_count": 2,
   "id": "emerging-skirt",
   "metadata": {},
   "outputs": [
    {
     "name": "stdout",
     "output_type": "stream",
     "text": [
      "On branch gh-pages\n",
      "Your branch is up to date with 'origin/gh-pages'.\n",
      "\n",
      "Changes to be committed:\n",
      "  (use \"git reset HEAD <file>...\" to unstage)\n",
      "\n",
      "\t\u001b[32mnew file:   .ipynb_checkpoints/git_credentials-checkpoint.ipynb\u001b[m\n",
      "\n",
      "Changes not staged for commit:\n",
      "  (use \"git add/rm <file>...\" to update what will be committed)\n",
      "  (use \"git checkout -- <file>...\" to discard changes in working directory)\n",
      "\n",
      "\t\u001b[31mmodified:   ../index.md\u001b[m\n",
      "\t\u001b[31mdeleted:    ../index_may_21_2021.md\u001b[m\n",
      "\n",
      "Untracked files:\n",
      "  (use \"git add <file>...\" to include in what will be committed)\n",
      "\n",
      "\t\u001b[31m../archive/.ipynb_checkpoints/index_may_21_2021-checkpoint.md\u001b[m\n",
      "\t\u001b[31m../archive/index_may_21_2021.md\u001b[m\n",
      "\t\u001b[31m../archive/index_may_26th_21.md\u001b[m\n",
      "\t\u001b[31m../assets/images/c-m-y1985_temp_comparision.png\u001b[m\n",
      "\t\u001b[31m../assets/images/indigo-maroon-forestgreen1993_temp_comparision (1).png\u001b[m\n",
      "\t\u001b[31m../assets/images/indigo-maroon-forestgreen1993_temp_comparision.png\u001b[m\n",
      "\t\u001b[31m../assets/images/tab_blue-tab_orange-tab_green1993_temp_comparision.png\u001b[m\n",
      "\t\u001b[31m../assets/images/tab_grey-tab_olive-tab_cyan1993_temp_comparision.png\u001b[m\n",
      "\n",
      "[gh-pages fcec6fb] generic commit\n",
      " 1 file changed, 45 insertions(+)\n",
      " create mode 100644 Git commands/.ipynb_checkpoints/git_credentials-checkpoint.ipynb\n",
      "Counting objects: 4, done.\n",
      "Delta compression using up to 8 threads.\n",
      "Compressing objects: 100% (4/4), done.\n",
      "Writing objects: 100% (4/4), 370 bytes | 370.00 KiB/s, done.\n",
      "Total 4 (delta 3), reused 0 (delta 0)\n",
      "remote: Resolving deltas: 100% (3/3), completed with 3 local objects.\u001b[K\n",
      "To https://github.com/gis3dts/Portfolio\n",
      "   d61d34f..fcec6fb  gh-pages -> gh-pages\n"
     ]
    }
   ],
   "source": [
    "!git add .\n",
    "!git status\n",
    "!git commit -m 'generic commit'\n",
    "!git push"
   ]
  },
  {
   "cell_type": "code",
   "execution_count": null,
   "id": "eligible-paste",
   "metadata": {},
   "outputs": [],
   "source": []
  }
 ],
 "metadata": {
  "kernelspec": {
   "display_name": "Python 3",
   "language": "python",
   "name": "python3"
  },
  "language_info": {
   "codemirror_mode": {
    "name": "ipython",
    "version": 3
   },
   "file_extension": ".py",
   "mimetype": "text/x-python",
   "name": "python",
   "nbconvert_exporter": "python",
   "pygments_lexer": "ipython3",
   "version": "3.7.8"
  }
 },
 "nbformat": 4,
 "nbformat_minor": 5
}
